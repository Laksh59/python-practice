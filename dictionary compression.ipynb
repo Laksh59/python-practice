{
 "cells": [
  {
   "cell_type": "code",
   "execution_count": 1,
   "id": "1102bf7b-c1d7-42f6-bff5-ecd7a49e1202",
   "metadata": {},
   "outputs": [
    {
     "name": "stdout",
     "output_type": "stream",
     "text": [
      "{0: 0, 1: 1, 2: 4, 3: 9, 4: 16}\n"
     ]
    }
   ],
   "source": [
    "#dictionary compression syntax: {key_expression:value_expression for item }\n",
    "#create a dictionary where the keys are nums and the values are the square of those nums\n",
    "squares={x:x**2 for x in range(5)}\n",
    "print(squares)"
   ]
  },
  {
   "cell_type": "code",
   "execution_count": 9,
   "id": "e5b01b10-5b86-4f92-8327-fbb0122a223b",
   "metadata": {},
   "outputs": [
    {
     "name": "stdout",
     "output_type": "stream",
     "text": [
      "{0: 0, 2: 8, 4: 64, 6: 216, 8: 512}\n"
     ]
    }
   ],
   "source": [
    "#create a dictionary where the keys are even nums and the values are their cubes\n",
    "cubes={x:x**3 for x in range(10) if x%2==0}\n",
    "print(cubes)"
   ]
  },
  {
   "cell_type": "code",
   "execution_count": 13,
   "id": "a3dd5c09-0962-49d5-8f50-9ae962e02793",
   "metadata": {},
   "outputs": [
    {
     "name": "stdout",
     "output_type": "stream",
     "text": [
      "{'a': 1, 'b': 2, 'c': 3}\n"
     ]
    }
   ],
   "source": [
    "#using 2 lists\n",
    "keys=['a','b','c']\n",
    "values=[1,2,3]\n",
    "my_dict={keys[i]:values[i] for i in range(len(keys))}\n",
    "print(my_dict)"
   ]
  },
  {
   "cell_type": "code",
   "execution_count": 17,
   "id": "6aee4e97-942c-4c80-a969-153334327cb9",
   "metadata": {},
   "outputs": [
    {
     "name": "stdout",
     "output_type": "stream",
     "text": [
      "{1: 'a', 2: 'b', 3: 'c'}\n"
     ]
    }
   ],
   "source": [
    "#creating a dictionary by swapping keys and values from another dictionary\n",
    "original={'a':1,'b':2,'c':3}\n",
    "swapped={v:k for k,v in original.items()}\n",
    "print(swapped)"
   ]
  },
  {
   "cell_type": "code",
   "execution_count": 23,
   "id": "ee130a83-6651-4f50-81ae-017f8bd5dd26",
   "metadata": {},
   "outputs": [
    {
     "name": "stdout",
     "output_type": "stream",
     "text": [
      "{'b': 6, 'd': 10}\n"
     ]
    }
   ],
   "source": [
    "#filtering items based on values\n",
    "original={'a':1,'b':6,'c':3,'d':10}\n",
    "filtered={k:v for k,v in original.items() if v>=5}\n",
    "print(filtered)"
   ]
  },
  {
   "cell_type": "code",
   "execution_count": 29,
   "id": "6adadd1c-2de7-4bc5-9f3a-953c24eadd10",
   "metadata": {},
   "outputs": [
    {
     "name": "stdout",
     "output_type": "stream",
     "text": [
      "{'a': 10, 'b': 20, 'c': 30}\n"
     ]
    }
   ],
   "source": [
    "#transforming values\n",
    "original={'a':1,'b':2,'c':3}\n",
    "transformed={k:v*10 for k,v in original.items()}\n",
    "print(transformed)"
   ]
  },
  {
   "cell_type": "code",
   "execution_count": 33,
   "id": "a5f2bc50-a0b4-4cd9-88ab-ff125588eb80",
   "metadata": {},
   "outputs": [
    {
     "name": "stdout",
     "output_type": "stream",
     "text": [
      "{1: {'squares': 1, 'cube': 1}, 2: {'squares': 4, 'cube': 8}, 3: {'squares': 9, 'cube': 27}, 4: {'squares': 16, 'cube': 64}}\n"
     ]
    }
   ],
   "source": [
    "#nested dicitonary compression\n",
    "num=[1,2,3,4]\n",
    "nested_dict={x:{'squares':x**2,'cube':x**3}for x in num}\n",
    "print(nested_dict)"
   ]
  },
  {
   "cell_type": "code",
   "execution_count": 37,
   "id": "a703b3a6-1804-4e45-82db-531d9ddeed4e",
   "metadata": {},
   "outputs": [
    {
     "name": "stdout",
     "output_type": "stream",
     "text": [
      "{'a': 1, 'c': 3}\n"
     ]
    }
   ],
   "source": [
    "#creating a dictionary from 2 lists with a condition\n",
    "keys=['a','b','c','d']\n",
    "values=[1,2,3,4]\n",
    "filtered_dict={keys[i]:values[i] for i in range(len(keys))if i%2==0}\n",
    "print(filtered_dict)"
   ]
  },
  {
   "cell_type": "code",
   "execution_count": 41,
   "id": "dc407fa5-ade9-4869-984a-9e0b9973896e",
   "metadata": {},
   "outputs": [
    {
     "name": "stdout",
     "output_type": "stream",
     "text": [
      "{'a': 1, 'b': 2, 'c': 3}\n"
     ]
    }
   ],
   "source": [
    "#creating a dictionary from tuple\n",
    "tuple=[('a',1),('b',2),('c',3)]\n",
    "my_dict={key:value for key,value in tuple}\n",
    "print(my_dict)"
   ]
  },
  {
   "cell_type": "code",
   "execution_count": 49,
   "id": "5ccc8770-79a2-4c39-8dfc-0a048e103698",
   "metadata": {},
   "outputs": [
    {
     "name": "stdout",
     "output_type": "stream",
     "text": [
      "{'a': 1, 'b': 2, 'c': 3, 'd': 0}\n"
     ]
    }
   ],
   "source": [
    "#handling missing keys(default value)\n",
    "keys=['a','b','c','d']\n",
    "values=[1,2,3]\n",
    "my_dict={k:values[i] if i<len(values) else 0 for i,k in enumerate(keys)}\n",
    "print(my_dict)"
   ]
  }
 ],
 "metadata": {
  "kernelspec": {
   "display_name": "Python 3 (ipykernel)",
   "language": "python",
   "name": "python3"
  },
  "language_info": {
   "codemirror_mode": {
    "name": "ipython",
    "version": 3
   },
   "file_extension": ".py",
   "mimetype": "text/x-python",
   "name": "python",
   "nbconvert_exporter": "python",
   "pygments_lexer": "ipython3",
   "version": "3.12.4"
  }
 },
 "nbformat": 4,
 "nbformat_minor": 5
}
