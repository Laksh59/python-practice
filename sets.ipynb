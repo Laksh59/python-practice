{
 "cells": [
  {
   "cell_type": "code",
   "execution_count": 5,
   "id": "b9e30e97-cecb-4f4e-a861-6185947de3d3",
   "metadata": {},
   "outputs": [
    {
     "data": {
      "text/plain": [
       "{2, 5, 9.4, 'a', 'apple', 'python'}"
      ]
     },
     "execution_count": 5,
     "metadata": {},
     "output_type": "execute_result"
    }
   ],
   "source": [
    "v={2,'python','a',5,9.4}\n",
    "v.add(\"apple\")\n",
    "v"
   ]
  },
  {
   "cell_type": "code",
   "execution_count": 1,
   "id": "b6833c58-868f-4037-8e7c-9312e458ff05",
   "metadata": {},
   "outputs": [
    {
     "name": "stdout",
     "output_type": "stream",
     "text": [
      "2\n",
      "a\n",
      "5\n",
      "9.4\n",
      "python\n"
     ]
    }
   ],
   "source": [
    "#looping in sets\n",
    "value_set={2,'python','a',5,9.4}\n",
    "for i in value_set:\n",
    "    print(i)"
   ]
  },
  {
   "cell_type": "code",
   "execution_count": null,
   "id": "01354112-e4c0-412c-abda-e71931623519",
   "metadata": {},
   "outputs": [],
   "source": [
    "#add\n"
   ]
  },
  {
   "cell_type": "code",
   "execution_count": 9,
   "id": "c6aba365-0dec-4c8b-b9cc-0a16499134bc",
   "metadata": {},
   "outputs": [
    {
     "name": "stdout",
     "output_type": "stream",
     "text": [
      "5\n"
     ]
    }
   ],
   "source": [
    "v={2,'python','a',5,9.4}\n",
    "print(len(v))"
   ]
  },
  {
   "cell_type": "code",
   "execution_count": 13,
   "id": "fad7db1d-f42e-40fc-a0a2-4f6361664f4f",
   "metadata": {},
   "outputs": [
    {
     "data": {
      "text/plain": [
       "{2, 5, 9.4, 'a'}"
      ]
     },
     "execution_count": 13,
     "metadata": {},
     "output_type": "execute_result"
    }
   ],
   "source": [
    "#remove element\n",
    "v={2,'python','a',5,9.4}\n",
    "v.remove('python')\n",
    "v"
   ]
  },
  {
   "cell_type": "code",
   "execution_count": 17,
   "id": "0f944223-6a74-4f07-9d1f-f02a5cd19d56",
   "metadata": {},
   "outputs": [
    {
     "data": {
      "text/plain": [
       "{2, 5, 9.4, 'a'}"
      ]
     },
     "execution_count": 17,
     "metadata": {},
     "output_type": "execute_result"
    }
   ],
   "source": [
    "v={2,'python','a',5,9.4}\n",
    "v.discard('python')\n",
    "v"
   ]
  },
  {
   "cell_type": "code",
   "execution_count": 5,
   "id": "6fa5b748-f440-4e7c-8002-e23b666d5c48",
   "metadata": {},
   "outputs": [
    {
     "name": "stdout",
     "output_type": "stream",
     "text": [
      "True\n",
      "False\n",
      "False\n"
     ]
    }
   ],
   "source": [
    "#set comparisons\n",
    "month1_set={\"jan\",\"feb\",\"dec\",\"mar\"}\n",
    "month2_set={\"jan\",\"feb\"}\n",
    "print(month1_set>month2_set)\n",
    "print(month1_set<month2_set)\n",
    "print(month1_set==month2_set)"
   ]
  },
  {
   "cell_type": "code",
   "execution_count": 1,
   "id": "2b5646e5-5d03-46e6-9fd7-d563055fb038",
   "metadata": {},
   "outputs": [],
   "source": [
    "#frozen sets\n"
   ]
  },
  {
   "cell_type": "code",
   "execution_count": 5,
   "id": "b0552c1c-1bbc-48c2-9721-d764675fd9e9",
   "metadata": {},
   "outputs": [
    {
     "name": "stdout",
     "output_type": "stream",
     "text": [
      "{0, 1, 4, 9, 16}\n"
     ]
    }
   ],
   "source": [
    "#set compression\n",
    "#create a set of squares of num from 0 to 4\n",
    "squares={x**2 for x in range(5)}\n",
    "print(squares)"
   ]
  },
  {
   "cell_type": "code",
   "execution_count": 9,
   "id": "5f1e4ea7-5942-48db-8435-e24fb90531af",
   "metadata": {},
   "outputs": [
    {
     "name": "stdout",
     "output_type": "stream",
     "text": [
      "{1, 4, 9, 16, 25}\n"
     ]
    }
   ],
   "source": [
    "#create a set of squares values\n",
    "num=[1,2,3,4,5]\n",
    "squared_nums={x**2 for x in num}\n",
    "print(squared_nums)"
   ]
  },
  {
   "cell_type": "code",
   "execution_count": 15,
   "id": "7acd092d-0112-4ac6-9927-8cdcd427a9b0",
   "metadata": {},
   "outputs": [
    {
     "name": "stdout",
     "output_type": "stream",
     "text": [
      "{2, 4}\n"
     ]
    }
   ],
   "source": [
    "#create a set of squares,but only for even nums\n",
    "num=[1,2,3,4,5]\n",
    "even_nums={x for x in num if x%2==0}\n",
    "print(even_nums)"
   ]
  },
  {
   "cell_type": "code",
   "execution_count": 19,
   "id": "73665cc0-bb22-4482-a61d-e7713cace333",
   "metadata": {},
   "outputs": [
    {
     "name": "stdout",
     "output_type": "stream",
     "text": [
      "{'banana', 'cherry', 'apple'}\n"
     ]
    }
   ],
   "source": [
    "#say fruit name without vowel\n",
    "words=['apple','banana','cherry','lyn']\n",
    "vowels={'a','e','i','o','u'}\n",
    "vowel_words={word for word in words if any(letter in vowels for letter in word)}\n",
    "print(vowel_words)"
   ]
  },
  {
   "cell_type": "code",
   "execution_count": 23,
   "id": "6a085c14-a446-4e44-8626-36750d322ef1",
   "metadata": {},
   "outputs": [
    {
     "name": "stdout",
     "output_type": "stream",
     "text": [
      "{1, 4, 36, 9, 16, 25}\n"
     ]
    }
   ],
   "source": [
    "#eliminating duplicates\n",
    "duplicates=[1,2,3,3,4,5,1,6]\n",
    "unique_squares={x**2 for x in duplicates}\n",
    "print(unique_squares)"
   ]
  },
  {
   "cell_type": "code",
   "execution_count": 29,
   "id": "7640b12e-a81a-4fca-84b4-91b1d2f6b35e",
   "metadata": {},
   "outputs": [
    {
     "name": "stdout",
     "output_type": "stream",
     "text": [
      "{'L', 'E', 'R', 'W', 'H', 'D', 'O'}\n"
     ]
    }
   ],
   "source": [
    "#create a set of uppercase letters from string\n",
    "text=\"hello world\"\n",
    "uppercase_letters={char.upper() for char in text if char.isalpha()}\n",
    "print(uppercase_letters)"
   ]
  },
  {
   "cell_type": "code",
   "execution_count": null,
   "id": "437617bb-37ea-4be1-8740-98bc7b99e3ec",
   "metadata": {},
   "outputs": [],
   "source": []
  }
 ],
 "metadata": {
  "kernelspec": {
   "display_name": "Python 3 (ipykernel)",
   "language": "python",
   "name": "python3"
  },
  "language_info": {
   "codemirror_mode": {
    "name": "ipython",
    "version": 3
   },
   "file_extension": ".py",
   "mimetype": "text/x-python",
   "name": "python",
   "nbconvert_exporter": "python",
   "pygments_lexer": "ipython3",
   "version": "3.12.4"
  }
 },
 "nbformat": 4,
 "nbformat_minor": 5
}
