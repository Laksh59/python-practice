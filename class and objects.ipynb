{
 "cells": [
  {
   "cell_type": "code",
   "execution_count": 5,
   "id": "4286b780-ede8-4db0-a718-57fafe1b4831",
   "metadata": {},
   "outputs": [
    {
     "name": "stdout",
     "output_type": "stream",
     "text": [
      "welcome to oops concept\n"
     ]
    }
   ],
   "source": [
    "class Python:\n",
    "    def fun(self):\n",
    "        print(\"welcome to oops concept\")\n",
    "pyt=Python()\n",
    "pyt.fun()"
   ]
  },
  {
   "cell_type": "code",
   "execution_count": 9,
   "id": "66a2b5bd-773e-413a-bfeb-ba75a36ad7b5",
   "metadata": {},
   "outputs": [
    {
     "name": "stdout",
     "output_type": "stream",
     "text": [
      "Name: Audi Id: 200000\n"
     ]
    }
   ],
   "source": [
    "class Car:\n",
    "    'Common_car'\n",
    "    car=0\n",
    "    def __init__(self,name,id):\n",
    "        self.name=name\n",
    "        self.id=id\n",
    "        Car.car+=1\n",
    "       \n",
    "    def printCardata(self):\n",
    "        print(\"Name:\",self.name,\"Id:\",self.id)\n",
    "c=Car(\"Audi\",200000)\n",
    "c.printCardata()"
   ]
  },
  {
   "cell_type": "code",
   "execution_count": 29,
   "id": "d6c558b1-791d-49bf-b1bd-640bd11d71e3",
   "metadata": {},
   "outputs": [
    {
     "name": "stdout",
     "output_type": "stream",
     "text": [
      "Name: lakshmi Age: 21 Salary: 200000\n"
     ]
    }
   ],
   "source": [
    "class Employee:\n",
    "    def __init__(self,name,age,salary):\n",
    "        self.name=name\n",
    "        self.age=age\n",
    "        self.salary=salary\n",
    "\n",
    "    def printdata(self):\n",
    "        print(\"Name:\",self.name,\"Age:\",self.age,\"Salary:\",self.salary)\n",
    "d=Employee(\"lakshmi\",21,200000)\n",
    "d.printdata()"
   ]
  },
  {
   "cell_type": "code",
   "execution_count": 13,
   "id": "9d6e5636-7645-4238-a324-588861e452ef",
   "metadata": {},
   "outputs": [
    {
     "name": "stdout",
     "output_type": "stream",
     "text": [
      "eagle Crow sparrow\n"
     ]
    }
   ],
   "source": [
    "class Birds:\n",
    "    def __init__(self,b1,b2,b3):\n",
    "        self.b1=b1\n",
    "        self.b2=b2\n",
    "        self.b3=b3\n",
    "    def printdata(self):\n",
    "        print(self.b1,self.b2,self.b3)\n",
    "b=Birds(\"eagle\",\"Crow\",\"sparrow\")\n",
    "b.printdata()"
   ]
  },
  {
   "cell_type": "code",
   "execution_count": 15,
   "id": "6b722c00-52d1-484b-b2d6-780dd7c894fd",
   "metadata": {},
   "outputs": [
    {
     "name": "stdout",
     "output_type": "stream",
     "text": [
      "positive\n"
     ]
    }
   ],
   "source": [
    "class Numbers:\n",
    "    def __init__(self,n):\n",
    "        self.n1=n\n",
    "    def check_data(self):\n",
    "        if self.n1>0:\n",
    "            print(\"positive\")\n",
    "        else:\n",
    "            print(\"negative\")\n",
    "c1=Numbers(1)\n",
    "c1.check_data()"
   ]
  },
  {
   "cell_type": "code",
   "execution_count": 17,
   "id": "049f2f0c-afe5-4c57-974f-02f2c8be4de5",
   "metadata": {},
   "outputs": [
    {
     "name": "stdout",
     "output_type": "stream",
     "text": [
      "Hello\n",
      "10\n"
     ]
    }
   ],
   "source": [
    "class Test:\n",
    "    x=10\n",
    "    def __init__(self):\n",
    "        print(\"Hello\")\n",
    "t=Test()\n",
    "print(Test.x)"
   ]
  },
  {
   "cell_type": "code",
   "execution_count": 19,
   "id": "81c5e452-e28b-4c40-a135-6d814effc0f9",
   "metadata": {},
   "outputs": [
    {
     "name": "stdout",
     "output_type": "stream",
     "text": [
      "Total Cars: 3\n",
      "Name: Audi Id: 200000\n",
      "Name: Benz Id: 3000000\n",
      "Name: bmw Id: 4000000\n"
     ]
    }
   ],
   "source": [
    "class Car:\n",
    "    car=0\n",
    "    def __init__(self,name,id):\n",
    "        self.name=name\n",
    "        self.id=id\n",
    "        Car.car+=1\n",
    "       \n",
    "    def printCardata(self):\n",
    "        print(\"Name:\",self.name,\"Id:\",self.id)\n",
    "c=Car(\"Audi\",200000)\n",
    "c1=Car(\"Benz\",3000000)\n",
    "c2=Car(\"bmw\",4000000)\n",
    "print(\"Total Cars:\",Car.car)\n",
    "c.printCardata()\n",
    "c1.printCardata()\n",
    "c2.printCardata()"
   ]
  },
  {
   "cell_type": "code",
   "execution_count": 21,
   "id": "265fef83-7e59-45c9-91f5-97d16e0a33f1",
   "metadata": {},
   "outputs": [
    {
     "name": "stdout",
     "output_type": "stream",
     "text": [
      "Car\n"
     ]
    }
   ],
   "source": [
    "class test:\n",
    "    def __init__(self):\n",
    "        self.variable='Car'\n",
    "        self.Change(self.variable)\n",
    "    def Change(self,var):\n",
    "        var='Bike'\n",
    "obj=test()\n",
    "print(obj.variable)"
   ]
  },
  {
   "cell_type": "code",
   "execution_count": 23,
   "id": "d80dc03a-1ebb-4f2a-b013-60cbb790168b",
   "metadata": {},
   "outputs": [
    {
     "name": "stdout",
     "output_type": "stream",
     "text": [
      "Car\n",
      "Bike\n"
     ]
    }
   ],
   "source": [
    "class test:\n",
    "    def __init__(self):\n",
    "        self.variable='Car'\n",
    "        self.Change(self.variable)\n",
    "    def Change(self,var):\n",
    "        self.var='Bike'\n",
    "obj=test()\n",
    "print(obj.variable)\n",
    "print(obj.var)"
   ]
  },
  {
   "cell_type": "code",
   "execution_count": 25,
   "id": "46405e3d-901f-4f1b-b315-fdb724d32673",
   "metadata": {},
   "outputs": [
    {
     "name": "stdout",
     "output_type": "stream",
     "text": [
      "Bike\n",
      "Car\n"
     ]
    }
   ],
   "source": [
    "class test:\n",
    "    def __init__(self):\n",
    "        self.variable='Car'\n",
    "        self.Change(self.variable)\n",
    "    def Change(self,var):\n",
    "        var='Bike'\n",
    "        print(var)\n",
    "obj=test()\n",
    "print(obj.variable)"
   ]
  },
  {
   "cell_type": "code",
   "execution_count": 23,
   "id": "30456c48-a6bb-4f1a-a1a7-f75b909db698",
   "metadata": {},
   "outputs": [
    {
     "name": "stdout",
     "output_type": "stream",
     "text": [
      "__main__\n"
     ]
    }
   ],
   "source": [
    "class Demo:\n",
    "    def __init__(self):\n",
    "        pass\n",
    "    def test(self):\n",
    "        print(__name__)\n",
    "obj=Demo()\n",
    "obj.test()"
   ]
  },
  {
   "cell_type": "code",
   "execution_count": 27,
   "id": "df15af48-038b-46dc-b8d8-215a7f0cd183",
   "metadata": {},
   "outputs": [
    {
     "name": "stdout",
     "output_type": "stream",
     "text": [
      "engine is powerful\n",
      "100km\n"
     ]
    }
   ],
   "source": [
    "#inheritance\n",
    "class Car:\n",
    "    def speed(self):\n",
    "        print(\"100km\")\n",
    "class Audi(Car):\n",
    "    def engine(self):\n",
    "        print(\"engine is powerful\")\n",
    "c=Audi()\n",
    "c.engine()\n",
    "c.speed()"
   ]
  },
  {
   "cell_type": "code",
   "execution_count": 45,
   "id": "06fbe118-db12-4457-aed6-53db9451bf47",
   "metadata": {},
   "outputs": [
    {
     "name": "stdout",
     "output_type": "stream",
     "text": [
      "some generic sound\n",
      "bark\n",
      "meow\n"
     ]
    }
   ],
   "source": [
    "#overriding\n",
    "class Animal:\n",
    "    def sound(self):\n",
    "        print(\"some generic sound\")\n",
    "class Dog(Animal):\n",
    "    def sound(self):\n",
    "        print(\"bark\")\n",
    "class Cat(Animal):\n",
    "    def sound(self):\n",
    "        print(\"meow\")\n",
    "dog=Dog()\n",
    "cat=Cat()\n",
    "obj=Animal()\n",
    "obj.sound()\n",
    "#overriding\n",
    "dog.sound()\n",
    "cat.sound()"
   ]
  },
  {
   "cell_type": "code",
   "execution_count": 5,
   "id": "806b3d4a-52cb-4ff8-a642-ffad2b18871c",
   "metadata": {},
   "outputs": [
    {
     "name": "stdin",
     "output_type": "stream",
     "text": [
      " 10\n",
      " 2\n"
     ]
    },
    {
     "name": "stdout",
     "output_type": "stream",
     "text": [
      "addition: 12\n",
      "subtrction: 8\n",
      "multiplication: 20\n",
      "floor division:5\n"
     ]
    }
   ],
   "source": [
    "#prgm to create a advanced calculator using single inheritance\n",
    "class Calculator:\n",
    "    def add(self,num1,num2):\n",
    "        self.num1=num1;\n",
    "        self.num2=num2;\n",
    "        return self.num1+self.num2\n",
    "    def sub(self,num1,num2):\n",
    "        return num1-num2;\n",
    "class AdvancedCalculator(Calculator):\n",
    "    def mul(self,num1,num2):\n",
    "        print(\"multiplication:\",num1*num2)\n",
    "    def div(self,num1,num2):\n",
    "        return num1//num2;\n",
    "x=AdvancedCalculator()\n",
    "num1=int(input())\n",
    "num2=int(input())\n",
    "print(\"addition: %d\"%(x.add(num1,num2)))\n",
    "print(\"subtrction:\",x.sub(num1,num2))\n",
    "x.mul(num1,num2)\n",
    "print('floor division:%d'%(x.div(num1,num2)))        "
   ]
  },
  {
   "cell_type": "code",
   "execution_count": 13,
   "id": "73c281d7-56c4-43a5-9ff9-69c8f79ed465",
   "metadata": {},
   "outputs": [
    {
     "ename": "NameError",
     "evalue": "name 'no_days' is not defined",
     "output_type": "error",
     "traceback": [
      "\u001b[1;31m---------------------------------------------------------------------------\u001b[0m",
      "\u001b[1;31mNameError\u001b[0m                                 Traceback (most recent call last)",
      "Cell \u001b[1;32mIn[13], line 1\u001b[0m\n\u001b[1;32m----> 1\u001b[0m \u001b[38;5;28;01mclass\u001b[39;00m \u001b[38;5;21;01mNormalroom\u001b[39;00m:\n\u001b[0;32m      2\u001b[0m     \u001b[38;5;28;01mdef\u001b[39;00m \u001b[38;5;21mcalculates\u001b[39m(\u001b[38;5;28mself\u001b[39m,no_rooms,no_days):\n\u001b[0;32m      3\u001b[0m         \u001b[38;5;28mself\u001b[39m\u001b[38;5;241m.\u001b[39mno_rooms\u001b[38;5;241m=\u001b[39mno_rooms;\n",
      "Cell \u001b[1;32mIn[13], line 5\u001b[0m, in \u001b[0;36mNormalroom\u001b[1;34m()\u001b[0m\n\u001b[0;32m      3\u001b[0m     \u001b[38;5;28mself\u001b[39m\u001b[38;5;241m.\u001b[39mno_rooms\u001b[38;5;241m=\u001b[39mno_rooms;\n\u001b[0;32m      4\u001b[0m     \u001b[38;5;28mself\u001b[39m\u001b[38;5;241m.\u001b[39mno_days\u001b[38;5;241m=\u001b[39mno_days;\n\u001b[1;32m----> 5\u001b[0m \u001b[38;5;28;01mif\u001b[39;00m no_days\u001b[38;5;241m==\u001b[39m\u001b[38;5;241m1\u001b[39m:\n\u001b[0;32m      6\u001b[0m     \u001b[38;5;28mprint\u001b[39m(\u001b[38;5;124m\"\u001b[39m\u001b[38;5;124mroom rent is 300\u001b[39m\u001b[38;5;124m\"\u001b[39m)\n\u001b[0;32m      7\u001b[0m \u001b[38;5;28;01melif\u001b[39;00m no_days\u001b[38;5;241m>\u001b[39m\u001b[38;5;241m1\u001b[39m \u001b[38;5;129;01mand\u001b[39;00m no_days\u001b[38;5;241m<\u001b[39m\u001b[38;5;241m=\u001b[39m\u001b[38;5;241m5\u001b[39m:\n",
      "\u001b[1;31mNameError\u001b[0m: name 'no_days' is not defined"
     ]
    }
   ],
   "source": [
    "class Normalroom:\n",
    "    def calculates(self,no_rooms,no_days):\n",
    "        self.no_rooms=no_rooms;\n",
    "        self.no_days=no_days;\n",
    "    if no_days==1:\n",
    "        print(\"room rent is 300\")\n",
    "    elif no_days>1 and no_days<=5:\n",
    "        print(\"room rent is 250\")\n",
    "    else:\n",
    "        print(\"room rent is 200\")\n",
    "a=int(input())\n",
    "c=Normalroom()\n",
    "c.calculates() "
   ]
  }
 ],
 "metadata": {
  "kernelspec": {
   "display_name": "Python 3 (ipykernel)",
   "language": "python",
   "name": "python3"
  },
  "language_info": {
   "codemirror_mode": {
    "name": "ipython",
    "version": 3
   },
   "file_extension": ".py",
   "mimetype": "text/x-python",
   "name": "python",
   "nbconvert_exporter": "python",
   "pygments_lexer": "ipython3",
   "version": "3.12.4"
  }
 },
 "nbformat": 4,
 "nbformat_minor": 5
}
