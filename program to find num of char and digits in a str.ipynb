{
 "cells": [
  {
   "cell_type": "code",
   "execution_count": 7,
   "id": "0d339dd5-9b29-4688-9921-1fc9608bcad8",
   "metadata": {},
   "outputs": [
    {
     "name": "stdin",
     "output_type": "stream",
     "text": [
      " abcd\n"
     ]
    },
    {
     "name": "stdout",
     "output_type": "stream",
     "text": [
      "Digit: 0\n",
      "Alphabet: 4\n"
     ]
    }
   ],
   "source": [
    "n=input()\n",
    "digit=0\n",
    "alphabet=0\n",
    "for i in n:\n",
    "    if i.isdigit():\n",
    "        digit+=1\n",
    "    elif i.isalpha():\n",
    "        alphabet+=1\n",
    "print(\"Digit:\",digit)\n",
    "print(\"Alphabet:\",alphabet)    "
   ]
  },
  {
   "cell_type": "code",
   "execution_count": null,
   "id": "4e49cb7b-a9d9-4412-b4f3-f6b3d6fc1efd",
   "metadata": {},
   "outputs": [],
   "source": []
  }
 ],
 "metadata": {
  "kernelspec": {
   "display_name": "Python 3 (ipykernel)",
   "language": "python",
   "name": "python3"
  },
  "language_info": {
   "codemirror_mode": {
    "name": "ipython",
    "version": 3
   },
   "file_extension": ".py",
   "mimetype": "text/x-python",
   "name": "python",
   "nbconvert_exporter": "python",
   "pygments_lexer": "ipython3",
   "version": "3.12.4"
  }
 },
 "nbformat": 4,
 "nbformat_minor": 5
}
