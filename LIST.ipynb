{
 "cells": [
  {
   "cell_type": "code",
   "execution_count": 11,
   "id": "64eba32c-4cd0-47e4-bc3b-71ff717a2165",
   "metadata": {},
   "outputs": [
    {
     "name": "stdout",
     "output_type": "stream",
     "text": [
      "[1, 2, 3, 4]\n",
      "1\n",
      "[2, 3, 4]\n"
     ]
    }
   ],
   "source": [
    "num=[1,2,3,4]\n",
    "print(num)\n",
    "a,*other=num\n",
    "print(a)\n",
    "print(other)"
   ]
  },
  {
   "cell_type": "code",
   "execution_count": 59,
   "id": "43969b7e-40d8-45c5-9c08-8200cc9b4d08",
   "metadata": {},
   "outputs": [
    {
     "name": "stdout",
     "output_type": "stream",
     "text": [
      "apple\n",
      "watermelon\n",
      "kiwi\n",
      "banana\n"
     ]
    }
   ],
   "source": [
    "a=[\"apple\",\"watermelon\",\"orange\",\"kiwi\",\"banana\"]\n",
    "for i in a:\n",
    "    if (i=='orange'):\n",
    "        continue\n",
    "    print(i)"
   ]
  },
  {
   "cell_type": "code",
   "execution_count": 65,
   "id": "fc42b318-39a1-4f58-9b6c-dda83f4f8225",
   "metadata": {},
   "outputs": [
    {
     "name": "stdout",
     "output_type": "stream",
     "text": [
      "10\n",
      "20\n",
      "30\n",
      "40\n",
      "50\n"
     ]
    }
   ],
   "source": [
    "x=[2,4,6,8,10]\n",
    "for i in x:\n",
    "    print(i*5)\n",
    "    "
   ]
  },
  {
   "cell_type": "code",
   "execution_count": 73,
   "id": "c44e5277-014c-46fb-8348-87f321ab6812",
   "metadata": {},
   "outputs": [
    {
     "name": "stdout",
     "output_type": "stream",
     "text": [
      "[1, 2, 3, 4]\n",
      "[1, 2, 3, 4, 7]\n"
     ]
    }
   ],
   "source": [
    "num=[1,2,3,4]\n",
    "print(num)\n",
    "num.append(7)\n",
    "print(num)"
   ]
  },
  {
   "cell_type": "code",
   "execution_count": 81,
   "id": "90c93c12-7550-41c8-bccc-983c2d12a3b5",
   "metadata": {},
   "outputs": [
    {
     "name": "stdout",
     "output_type": "stream",
     "text": [
      "[1, 2, 3, 4, 'python']\n",
      "['python', 1, 2, 3, 4]\n"
     ]
    }
   ],
   "source": [
    "#to add an entire list\n",
    "num=[1,2,3,4]\n",
    "stg=[\"python\"]\n",
    "x=num+stg\n",
    "y=stg+num\n",
    "print(x)\n",
    "print(y)"
   ]
  },
  {
   "cell_type": "code",
   "execution_count": 3,
   "id": "54429b37-528d-409b-93e5-660efa2961db",
   "metadata": {},
   "outputs": [
    {
     "name": "stdout",
     "output_type": "stream",
     "text": [
      "[1, 2, 3, 4, 'python']\n"
     ]
    }
   ],
   "source": [
    "num=[1,2,3,4]\n",
    "stg=[\"python\"]\n",
    "num.extend(stg)\n",
    "print(num)"
   ]
  },
  {
   "cell_type": "code",
   "execution_count": 105,
   "id": "cac3d32b-3c03-4b61-a2d6-8cddba00c71d",
   "metadata": {},
   "outputs": [
    {
     "name": "stdout",
     "output_type": "stream",
     "text": [
      "[1, 2, 3, 4, 'List', 'python']\n"
     ]
    }
   ],
   "source": [
    "#add between list\n",
    "num=[1,2,3,4]\n",
    "stg=[\"python\"]\n",
    "num.extend(stg)\n",
    "num.insert(4,\"List\")\n",
    "print(num)"
   ]
  },
  {
   "cell_type": "code",
   "execution_count": 113,
   "id": "598ae41a-3e8d-4034-ab8f-8f530a057c7c",
   "metadata": {},
   "outputs": [
    {
     "name": "stdout",
     "output_type": "stream",
     "text": [
      "['Lakshmi', 1, 2, 3, 4, 'python']\n"
     ]
    }
   ],
   "source": [
    "num=[1,2,3,4]\n",
    "stg=[\"python\"]\n",
    "num.extend(stg)\n",
    "num.insert(0,\"Lakshmi\")\n",
    "print(num)"
   ]
  },
  {
   "cell_type": "code",
   "execution_count": 119,
   "id": "6a964ef2-4e77-4342-b2df-e4ac11fdf648",
   "metadata": {},
   "outputs": [
    {
     "name": "stdout",
     "output_type": "stream",
     "text": [
      "[1, 2, 3, 4, 'python']\n",
      "[1, 2, 3, 'python']\n"
     ]
    }
   ],
   "source": [
    "#remove elements in list\n",
    "num=[1,2,3,4]\n",
    "stg=[\"python\"]\n",
    "num.extend(stg)\n",
    "print(num)\n",
    "num.remove(4)\n",
    "print(num)"
   ]
  },
  {
   "cell_type": "code",
   "execution_count": 125,
   "id": "25243c89-3cf7-4183-8575-b54ecc0e59a3",
   "metadata": {},
   "outputs": [
    {
     "name": "stdout",
     "output_type": "stream",
     "text": [
      "['a', 'b', 'f', 'y', 'z']\n"
     ]
    }
   ],
   "source": [
    "#sort elements in list\n",
    "a=['z','y','f','a','b']\n",
    "a.sort()\n",
    "print(a)"
   ]
  },
  {
   "cell_type": "code",
   "execution_count": 133,
   "id": "c42756d9-fcbe-4642-a712-b7eef8e6cc24",
   "metadata": {},
   "outputs": [
    {
     "name": "stdout",
     "output_type": "stream",
     "text": [
      "['z', 'y', 'f', 'b', 'a']\n"
     ]
    }
   ],
   "source": [
    "a=['z','y','f','a','b']\n",
    "a.sort(reverse=True)\n",
    "print(a)"
   ]
  },
  {
   "cell_type": "code",
   "execution_count": 139,
   "id": "a582ef0a-c404-4254-a2e6-83370e9c9d1d",
   "metadata": {},
   "outputs": [
    {
     "name": "stdout",
     "output_type": "stream",
     "text": [
      "['a', 'b', 'f', 'y', 'z']\n"
     ]
    }
   ],
   "source": [
    "a=['z','y','f','a','b']\n",
    "a.sort(reverse=False)\n",
    "print(a)"
   ]
  },
  {
   "cell_type": "code",
   "execution_count": 149,
   "id": "614751b5-c380-4ff5-968a-188bdde2d86c",
   "metadata": {},
   "outputs": [
    {
     "name": "stdout",
     "output_type": "stream",
     "text": [
      "6\n",
      "4\n",
      "90\n",
      "189\n",
      "31.5\n"
     ]
    }
   ],
   "source": [
    "#built in funcs\n",
    "a=[9,17,14,4,90,55]\n",
    "print(len(a))\n",
    "print(min(a))\n",
    "print(max(a))\n",
    "print(sum(a))\n",
    "print(sum(a)/len(a)) #mean\n"
   ]
  },
  {
   "cell_type": "code",
   "execution_count": 161,
   "id": "5bbd90a7-9ff8-41ae-a3fa-53d2d0eea416",
   "metadata": {},
   "outputs": [
    {
     "name": "stdout",
     "output_type": "stream",
     "text": [
      "[1, 2, 3, 4, 5, 6, 7, 8, 9, 10]\n",
      "[1, 3, 5, 7, 9]\n",
      "[2, 4, 6, 8, 10]\n"
     ]
    }
   ],
   "source": [
    "list1=list(range(1,11))\n",
    "print(list1)\n",
    "odd=list1[::2]\n",
    "even=list1[1::2]\n",
    "print(odd)\n",
    "print(even)"
   ]
  }
 ],
 "metadata": {
  "kernelspec": {
   "display_name": "Python 3 (ipykernel)",
   "language": "python",
   "name": "python3"
  },
  "language_info": {
   "codemirror_mode": {
    "name": "ipython",
    "version": 3
   },
   "file_extension": ".py",
   "mimetype": "text/x-python",
   "name": "python",
   "nbconvert_exporter": "python",
   "pygments_lexer": "ipython3",
   "version": "3.12.4"
  }
 },
 "nbformat": 4,
 "nbformat_minor": 5
}
