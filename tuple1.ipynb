{
 "cells": [
  {
   "cell_type": "markdown",
   "id": "d5bd4738-57fc-4023-842d-7b40d610b520",
   "metadata": {},
   "source": []
  },
  {
   "cell_type": "code",
   "execution_count": 3,
   "id": "ca2c2aa4-2b9b-4566-b4af-3d6021db48e0",
   "metadata": {},
   "outputs": [
    {
     "name": "stdout",
     "output_type": "stream",
     "text": [
      "()\n"
     ]
    }
   ],
   "source": [
    "empty_tuple=()\n",
    "print(empty_tuple)"
   ]
  },
  {
   "cell_type": "code",
   "execution_count": 7,
   "id": "058b1196-3e5a-4c00-8fa1-adfab4eca327",
   "metadata": {},
   "outputs": [
    {
     "name": "stdout",
     "output_type": "stream",
     "text": [
      "(26, 45, 32)\n"
     ]
    }
   ],
   "source": [
    "value=26,45,32\n",
    "print(value)"
   ]
  },
  {
   "cell_type": "code",
   "execution_count": 11,
   "id": "1588f266-85b9-4486-932a-563115476a5f",
   "metadata": {},
   "outputs": [
    {
     "name": "stdout",
     "output_type": "stream",
     "text": [
      "(27, 'hii', 2.45, True)\n"
     ]
    }
   ],
   "source": [
    "v=(27,'hii',2.45,True)\n",
    "print(v)"
   ]
  },
  {
   "cell_type": "code",
   "execution_count": 19,
   "id": "5eefcf4f-79ee-401d-b850-88a28b9d3596",
   "metadata": {},
   "outputs": [
    {
     "name": "stdout",
     "output_type": "stream",
     "text": [
      "hello <class 'str'>\n"
     ]
    }
   ],
   "source": [
    "tuple=(\"hello\")\n",
    "print(tuple,type(tuple))"
   ]
  },
  {
   "cell_type": "code",
   "execution_count": 23,
   "id": "59b01d6d-fb29-4c56-9a9b-df31d02589b6",
   "metadata": {},
   "outputs": [
    {
     "name": "stdout",
     "output_type": "stream",
     "text": [
      "('hello',) <class 'tuple'>\n"
     ]
    }
   ],
   "source": [
    "tuple=(\"hello\",)\n",
    "print(tuple,type(tuple))"
   ]
  },
  {
   "cell_type": "code",
   "execution_count": 27,
   "id": "986edbb3-69bc-4f77-8248-cd8c67115617",
   "metadata": {},
   "outputs": [
    {
     "ename": "TypeError",
     "evalue": "'tuple' object does not support item assignment",
     "output_type": "error",
     "traceback": [
      "\u001b[1;31m---------------------------------------------------------------------------\u001b[0m",
      "\u001b[1;31mTypeError\u001b[0m                                 Traceback (most recent call last)",
      "Cell \u001b[1;32mIn[27], line 2\u001b[0m\n\u001b[0;32m      1\u001b[0m a\u001b[38;5;241m=\u001b[39m(\u001b[38;5;241m26\u001b[39m,\u001b[38;5;241m45\u001b[39m,\u001b[38;5;124m'\u001b[39m\u001b[38;5;124mhello\u001b[39m\u001b[38;5;124m'\u001b[39m)\n\u001b[1;32m----> 2\u001b[0m a[\u001b[38;5;241m1\u001b[39m]\u001b[38;5;241m=\u001b[39m\u001b[38;5;241m7\u001b[39m\n\u001b[0;32m      3\u001b[0m \u001b[38;5;28mprint\u001b[39m(a)\n",
      "\u001b[1;31mTypeError\u001b[0m: 'tuple' object does not support item assignment"
     ]
    }
   ],
   "source": [
    "a=(26,45,'hello')\n",
    "a[1]=7\n",
    "print(a)"
   ]
  },
  {
   "cell_type": "code",
   "execution_count": 31,
   "id": "ea203d7f-3e5d-4d1f-99f9-ebce59865c6c",
   "metadata": {},
   "outputs": [
    {
     "name": "stdout",
     "output_type": "stream",
     "text": [
      "(26, 45, 'hello', 7, 5.6, 'python')\n"
     ]
    }
   ],
   "source": [
    "a=(26,45,'hello')\n",
    "b=7,5.6,\"python\"\n",
    "print(a+b)"
   ]
  },
  {
   "cell_type": "code",
   "execution_count": 35,
   "id": "e8186586-8b39-412b-8edb-99fb3c562e9c",
   "metadata": {},
   "outputs": [
    {
     "data": {
      "text/plain": [
       "((26, 45, 'hello'), (7, 5.6, 'python'))"
      ]
     },
     "execution_count": 35,
     "metadata": {},
     "output_type": "execute_result"
    }
   ],
   "source": [
    "#nesting of tuple\n",
    "a=(26,45,'hello')\n",
    "b=7,5.6,\"python\"\n",
    "c=a,b\n",
    "c"
   ]
  },
  {
   "cell_type": "code",
   "execution_count": 39,
   "id": "fdbc13a2-8fd5-46f8-91d1-6ed09253bed6",
   "metadata": {},
   "outputs": [
    {
     "data": {
      "text/plain": [
       "(26, 45, 'hello', 26, 45, 'hello')"
      ]
     },
     "execution_count": 39,
     "metadata": {},
     "output_type": "execute_result"
    }
   ],
   "source": [
    "#repetition as tuple\n",
    "a=(26,45,'hello')*2\n",
    "a"
   ]
  },
  {
   "cell_type": "code",
   "execution_count": 43,
   "id": "24ebe610-85d5-49ec-91a6-c42f5fb0fd2c",
   "metadata": {},
   "outputs": [
    {
     "name": "stdout",
     "output_type": "stream",
     "text": [
      "7.5\n"
     ]
    }
   ],
   "source": [
    "#access values in tuple\n",
    "a=(26,45,'hello',7.5)\n",
    "print(a[3])"
   ]
  },
  {
   "cell_type": "code",
   "execution_count": 47,
   "id": "b2fb06b6-129c-4c3b-802e-75c45b5e9fec",
   "metadata": {},
   "outputs": [
    {
     "name": "stdout",
     "output_type": "stream",
     "text": [
      "(26, 45, 'hello', 7.5, 'z', 5, 6.9)\n",
      "('hello', 7.5, 'z', 5, 6.9)\n",
      "(26, 45, 'hello')\n",
      "(26, 45, 'hello', 7.5, 'z', 5, 6.9)\n",
      "(26, 45, 'hello', 7.5)\n",
      "6.9\n",
      "(26, 45, 'hello')\n",
      "(7.5, 'z', 5, 6.9)\n",
      "(26, 45, 'hello', 7.5, 'z', 5)\n",
      "(6.9, 5, 'z', 7.5, 'hello', 45, 26)\n",
      "(6.9, 'z', 'hello', 26)\n",
      "(6.9, 7.5, 26)\n",
      "('z', 5, 6.9)\n",
      "('hello', 7.5, 'z', 5, 6.9)\n",
      "(26, 'hello', 'z', 6.9)\n",
      "(45, 'hello', 7.5)\n",
      "(45, 'hello', 7.5, 'z', 5, 6.9)\n",
      "(45, 'z')\n",
      "(6.9, 'z', 'hello', 26)\n",
      "(45, 7.5, 5)\n",
      "(45,)\n"
     ]
    }
   ],
   "source": [
    "#slicing in tuple\n",
    "a=(26,45,'hello',7.5,'z',5,6.9)\n",
    "print(a[0:])\n",
    "print(a[2:])\n",
    "print(a[:3])\n",
    "print(a[:7])\n",
    "print(a[:4])\n",
    "print(a[-1])\n",
    "print(a[:-4])\n",
    "print(a[-4:])\n",
    "print(a[:-1])\n",
    "print(a[::-1])\n",
    "print(a[::-2])\n",
    "print(a[::-3])\n",
    "print(a[-3::])\n",
    "print(a[2::])\n",
    "print(a[::2])\n",
    "print(a[1:4])\n",
    "print(a[1::1])\n",
    "print(a[1::3])\n",
    "print(a[-1::-2])\n",
    "print(a[1:6:2])\n",
    "print(a[1:3:2])"
   ]
  },
  {
   "cell_type": "code",
   "execution_count": 1,
   "id": "e27c4137-885c-4613-97e1-f754daf6c408",
   "metadata": {},
   "outputs": [
    {
     "name": "stdout",
     "output_type": "stream",
     "text": [
      "('hello',)\n",
      "(('hello',),)\n",
      "((('hello',),),)\n"
     ]
    }
   ],
   "source": [
    "#looping\n",
    "Tuple=('hello')\n",
    "n=3\n",
    "for i in range(int(n)):\n",
    "    Tuple=(Tuple,)\n",
    "    print(Tuple)"
   ]
  },
  {
   "cell_type": "code",
   "execution_count": 5,
   "id": "3f9b267a-80fe-4cf7-992b-fdb3be687380",
   "metadata": {},
   "outputs": [
    {
     "name": "stdout",
     "output_type": "stream",
     "text": [
      "5\n"
     ]
    }
   ],
   "source": [
    "#built in func\n",
    "tuple=('developer',5,8.9,'r',8)\n",
    "print(len(tuple))"
   ]
  },
  {
   "cell_type": "code",
   "execution_count": 47,
   "id": "9f6ee6b8-aebe-439e-97bd-f3bdd308dacb",
   "metadata": {},
   "outputs": [
    {
     "name": "stdout",
     "output_type": "stream",
     "text": [
      "89\n",
      "4\n",
      "115\n",
      "[4, 5, 8, 9, 89]\n"
     ]
    }
   ],
   "source": [
    "tuple1=(9,5,89,4,8)\n",
    "print(max(tuple1))\n",
    "print(min(tuple1))\n",
    "print(sum(tuple1))\n",
    "print(sorted(tuple1))"
   ]
  },
  {
   "cell_type": "code",
   "execution_count": 49,
   "id": "02d3c712-60c8-4b47-8507-29f7240daaf3",
   "metadata": {},
   "outputs": [
    {
     "name": "stdout",
     "output_type": "stream",
     "text": [
      "True\n"
     ]
    }
   ],
   "source": [
    "tuple=(0,1)\n",
    "print(any(tuple))"
   ]
  },
  {
   "cell_type": "code",
   "execution_count": 51,
   "id": "673b824e-489e-4f27-9363-d0ce68490096",
   "metadata": {},
   "outputs": [
    {
     "name": "stdout",
     "output_type": "stream",
     "text": [
      "False\n"
     ]
    }
   ],
   "source": [
    "a=(0,)\n",
    "print(any(a))"
   ]
  },
  {
   "cell_type": "code",
   "execution_count": 53,
   "id": "23a06d10-aaa9-4b41-a0ee-22323e576873",
   "metadata": {},
   "outputs": [
    {
     "name": "stdout",
     "output_type": "stream",
     "text": [
      "False\n"
     ]
    }
   ],
   "source": [
    "b=()\n",
    "print(any(b))"
   ]
  },
  {
   "cell_type": "code",
   "execution_count": 55,
   "id": "adb3b7b4-5a82-4e64-92ab-812a00d5e7de",
   "metadata": {},
   "outputs": [
    {
     "name": "stdout",
     "output_type": "stream",
     "text": [
      "True\n"
     ]
    }
   ],
   "source": [
    "c=(4,1)\n",
    "print(all(c))"
   ]
  },
  {
   "cell_type": "code",
   "execution_count": 57,
   "id": "a1475ccb-fef9-4e9d-91ae-cc0ab4d43a24",
   "metadata": {},
   "outputs": [
    {
     "name": "stdout",
     "output_type": "stream",
     "text": [
      "False\n"
     ]
    }
   ],
   "source": [
    "tuple=(0,5,7)\n",
    "print(all(tuple))"
   ]
  },
  {
   "cell_type": "code",
   "execution_count": 59,
   "id": "11da2650-02c9-494d-9fcb-0407fdc3e2ab",
   "metadata": {},
   "outputs": [
    {
     "name": "stdout",
     "output_type": "stream",
     "text": [
      "apple\n",
      "byte\n"
     ]
    }
   ],
   "source": [
    "a=('apple','byte','computer')\n",
    "n=2\n",
    "for i in range(n):\n",
    "    print(a[i])"
   ]
  },
  {
   "cell_type": "code",
   "execution_count": 61,
   "id": "3139b94d-3320-4251-9532-5c0bfefe2164",
   "metadata": {},
   "outputs": [
    {
     "name": "stdout",
     "output_type": "stream",
     "text": [
      "apple\n",
      "byte\n",
      "computer\n"
     ]
    }
   ],
   "source": [
    "a=('apple','byte','computer')\n",
    "for i in a:\n",
    "    print(i)"
   ]
  },
  {
   "cell_type": "code",
   "execution_count": 63,
   "id": "f5c98f6c-4845-4cd4-84ac-047abca55358",
   "metadata": {},
   "outputs": [
    {
     "name": "stdout",
     "output_type": "stream",
     "text": [
      "apple\n",
      "byte\n"
     ]
    }
   ],
   "source": [
    "a=('apple','byte','computer')\n",
    "n=2\n",
    "for i in range(n):\n",
    "    print(a[i])"
   ]
  },
  {
   "cell_type": "code",
   "execution_count": 65,
   "id": "ec7facc5-ba86-4dc6-b749-a3ed27e57dd0",
   "metadata": {},
   "outputs": [
    {
     "name": "stdout",
     "output_type": "stream",
     "text": [
      "apple\n"
     ]
    }
   ],
   "source": [
    "a=('apple','byte','computer')\n",
    "n=2\n",
    "for i in range(n):\n",
    "    print(a[i])\n",
    "    break"
   ]
  },
  {
   "cell_type": "code",
   "execution_count": 67,
   "id": "628997f1-3fa3-4797-8a05-90b53f04200f",
   "metadata": {},
   "outputs": [
    {
     "name": "stdout",
     "output_type": "stream",
     "text": [
      "['apple', 'byte', 'computer']\n"
     ]
    }
   ],
   "source": [
    "a=('apple','byte','computer')\n",
    "print(list(a))"
   ]
  },
  {
   "cell_type": "code",
   "execution_count": 69,
   "id": "a08105e7-d843-4688-9f69-d72cea685e6c",
   "metadata": {},
   "outputs": [
    {
     "name": "stdout",
     "output_type": "stream",
     "text": [
      "2\n",
      "1\n",
      "0\n"
     ]
    }
   ],
   "source": [
    "a=(3,7,'p','y','z',9.5,'y')\n",
    "print(a.count('y'))\n",
    "print(a.count(7))\n",
    "print(a.count(9))"
   ]
  },
  {
   "cell_type": "code",
   "execution_count": 71,
   "id": "4608038d-9d14-4318-bdcd-dc0923fb72cd",
   "metadata": {},
   "outputs": [
    {
     "name": "stdout",
     "output_type": "stream",
     "text": [
      "3\n",
      "1\n"
     ]
    }
   ],
   "source": [
    "a=(3,7,'p','y','z',9.5,'y')\n",
    "print(a.index('y'))\n",
    "print(a.index(7))"
   ]
  },
  {
   "cell_type": "code",
   "execution_count": 11,
   "id": "f27b82d7-c752-462e-9f54-163a29f7afe0",
   "metadata": {},
   "outputs": [
    {
     "data": {
      "text/plain": [
       "()"
      ]
     },
     "execution_count": 11,
     "metadata": {},
     "output_type": "execute_result"
    }
   ],
   "source": [
    "ex=()\n",
    "ex"
   ]
  },
  {
   "cell_type": "code",
   "execution_count": 15,
   "id": "0bc07d34-b435-40d1-b239-ef247be90374",
   "metadata": {},
   "outputs": [
    {
     "data": {
      "text/plain": [
       "(26, 45, 'hello')"
      ]
     },
     "execution_count": 15,
     "metadata": {},
     "output_type": "execute_result"
    }
   ],
   "source": [
    "t=(26,45,'hello')\n",
    "t"
   ]
  },
  {
   "cell_type": "code",
   "execution_count": 19,
   "id": "ded443ed-5f57-4dd4-86ab-8b4e08a8173c",
   "metadata": {},
   "outputs": [
    {
     "name": "stdout",
     "output_type": "stream",
     "text": [
      "<class 'tuple'>\n"
     ]
    }
   ],
   "source": [
    "value=(\"a\",)\n",
    "print(type(value))"
   ]
  },
  {
   "cell_type": "code",
   "execution_count": 23,
   "id": "6fea2c4b-1f6a-4763-8614-29cea626707f",
   "metadata": {},
   "outputs": [
    {
     "name": "stdout",
     "output_type": "stream",
     "text": [
      "<class 'str'>\n"
     ]
    }
   ],
   "source": [
    "value=(\"a\")\n",
    "print(type(value))"
   ]
  },
  {
   "cell_type": "code",
   "execution_count": 27,
   "id": "d8092fb6-ca98-46c6-8872-18e6a35c1007",
   "metadata": {},
   "outputs": [
    {
     "data": {
      "text/plain": [
       "(26, 45, 'hello', 7.5)"
      ]
     },
     "execution_count": 27,
     "metadata": {},
     "output_type": "execute_result"
    }
   ],
   "source": [
    "#insertion in tuple\n",
    "t1=(26,45,'hello',7.5)\n",
    "t1"
   ]
  },
  {
   "cell_type": "code",
   "execution_count": 31,
   "id": "a2ebd6ee-abc3-4e5d-8b1e-b4f877817536",
   "metadata": {},
   "outputs": [
    {
     "ename": "TypeError",
     "evalue": "'tuple' object does not support item assignment",
     "output_type": "error",
     "traceback": [
      "\u001b[1;31m---------------------------------------------------------------------------\u001b[0m",
      "\u001b[1;31mTypeError\u001b[0m                                 Traceback (most recent call last)",
      "Cell \u001b[1;32mIn[31], line 1\u001b[0m\n\u001b[1;32m----> 1\u001b[0m t1[\u001b[38;5;241m2\u001b[39m]\u001b[38;5;241m=\u001b[39m\u001b[38;5;124m\"\u001b[39m\u001b[38;5;124mpython\u001b[39m\u001b[38;5;124m\"\u001b[39m\n\u001b[0;32m      2\u001b[0m t1\n",
      "\u001b[1;31mTypeError\u001b[0m: 'tuple' object does not support item assignment"
     ]
    }
   ],
   "source": [
    "t1[2]=\"python\"\n",
    "t1"
   ]
  },
  {
   "cell_type": "code",
   "execution_count": 39,
   "id": "fb0de277-e0d9-47cb-a65a-23d05164be60",
   "metadata": {},
   "outputs": [
    {
     "data": {
      "text/plain": [
       "(26, 45, 'hello', 7, 5.6, 'python')"
      ]
     },
     "execution_count": 39,
     "metadata": {},
     "output_type": "execute_result"
    }
   ],
   "source": [
    "#concatenation\n",
    "t=(26,45,'hello')\n",
    "t1=(7,5.6,\"python\")\n",
    "t2=t+t1\n",
    "t2"
   ]
  },
  {
   "cell_type": "code",
   "execution_count": 45,
   "id": "e97050ef-3461-4809-afc0-03b8a1e3387a",
   "metadata": {},
   "outputs": [
    {
     "data": {
      "text/plain": [
       "(26, 45, 'hello', 7)"
      ]
     },
     "execution_count": 45,
     "metadata": {},
     "output_type": "execute_result"
    }
   ],
   "source": [
    "t=(26,45,'hello')\n",
    "t=t+(7,)\n",
    "t"
   ]
  },
  {
   "cell_type": "code",
   "execution_count": 47,
   "id": "0e454c40-6d1d-4f8e-858f-f7c11d76f13b",
   "metadata": {},
   "outputs": [
    {
     "data": {
      "text/plain": [
       "((26, 45, 'hello'), (7, 5.6, 'python'))"
      ]
     },
     "execution_count": 47,
     "metadata": {},
     "output_type": "execute_result"
    }
   ],
   "source": [
    "t=(26,45,'hello')\n",
    "t1=(7,5.6,\"python\")\n",
    "t2=t,t1\n",
    "t2"
   ]
  },
  {
   "cell_type": "code",
   "execution_count": 3,
   "id": "00ea22eb-c4b3-4e0b-b9ed-f83d1356fe9b",
   "metadata": {},
   "outputs": [
    {
     "name": "stdout",
     "output_type": "stream",
     "text": [
      "(26, 45, 'hello', 7)\n"
     ]
    }
   ],
   "source": [
    "#type conversion\n",
    "t=(26,45,'hello')\n",
    "converted_list=list(t)\n",
    "converted_list.append(7)\n",
    "t=tuple(converted_list)\n",
    "print(t)"
   ]
  },
  {
   "cell_type": "code",
   "execution_count": 63,
   "id": "7a15cc3a-ebf9-4ca6-b363-cf2cc5b29042",
   "metadata": {},
   "outputs": [
    {
     "data": {
      "text/plain": [
       "(26, 45, 'hello', 26, 45, 'hello')"
      ]
     },
     "execution_count": 63,
     "metadata": {},
     "output_type": "execute_result"
    }
   ],
   "source": [
    "#repetition in tuple\n",
    "value_tuple=(26,45,\"hello\")*2\n",
    "value_tuple"
   ]
  },
  {
   "cell_type": "code",
   "execution_count": 1,
   "id": "617c34af-e24d-44d4-a577-df8a01fc043f",
   "metadata": {},
   "outputs": [
    {
     "name": "stdin",
     "output_type": "stream",
     "text": [
      " 4\n",
      " 34\n",
      " 5\n",
      " 67\n",
      " 1\n"
     ]
    },
    {
     "data": {
      "text/plain": [
       "(34, 5, 67, 1)"
      ]
     },
     "execution_count": 1,
     "metadata": {},
     "output_type": "execute_result"
    }
   ],
   "source": [
    "#prgm to get the tuple values from user and print\n",
    "value=()\n",
    "n=int(input())\n",
    "list1=[]\n",
    "for i in range(n):\n",
    "    list1.append(int(input()))\n",
    "value=tuple(list1)\n",
    "value"
   ]
  },
  {
   "cell_type": "code",
   "execution_count": 3,
   "id": "e3637c25-fa6a-402e-9253-16baa15930c9",
   "metadata": {},
   "outputs": [
    {
     "name": "stdout",
     "output_type": "stream",
     "text": [
      "one\n",
      "two\n",
      "three\n",
      "four\n"
     ]
    }
   ],
   "source": [
    "#accessing value in tuple\n",
    "num=('one',\"two\",\"three\",\"four\")\n",
    "i=0\n",
    "while i<len(num):\n",
    "    print(num[i])\n",
    "    i=i+1"
   ]
  },
  {
   "cell_type": "code",
   "execution_count": 7,
   "id": "3a03effb-e957-4c82-a847-cb28b920e969",
   "metadata": {},
   "outputs": [
    {
     "name": "stdout",
     "output_type": "stream",
     "text": [
      "one\n",
      "two\n",
      "three\n",
      "four\n"
     ]
    }
   ],
   "source": [
    "num=('one',\"two\",\"three\",\"four\")\n",
    "for i in num:\n",
    "    print(i)"
   ]
  },
  {
   "cell_type": "code",
   "execution_count": 11,
   "id": "c816a3a4-28e8-4dcc-ad6e-72c1635b0934",
   "metadata": {},
   "outputs": [
    {
     "name": "stdout",
     "output_type": "stream",
     "text": [
      "45\n"
     ]
    }
   ],
   "source": [
    "#python prgm to get the elements 45 from the below tuple\n",
    "value_tuple=(26,12,10,6,67,91,45,'hello',7.5,99,7,'name')\n",
    "print(value_tuple[6])"
   ]
  },
  {
   "cell_type": "code",
   "execution_count": 31,
   "id": "28ceee09-2c65-45d9-b329-c6373c1a92c9",
   "metadata": {},
   "outputs": [
    {
     "name": "stdout",
     "output_type": "stream",
     "text": [
      "45\n"
     ]
    }
   ],
   "source": [
    "#python prgm to get the elements 45 from the below tuple\n",
    "value_tuple=(26,12,10,6,67,91,45,'hello',7.5,99,7,'name')\n",
    "for i in value_tuple:\n",
    "    if i==45:\n",
    "        print(i)"
   ]
  },
  {
   "cell_type": "code",
   "execution_count": 35,
   "id": "9880508e-ebcb-4b57-a0af-f040cc2a58a3",
   "metadata": {},
   "outputs": [
    {
     "name": "stdout",
     "output_type": "stream",
     "text": [
      "four\n"
     ]
    }
   ],
   "source": [
    "#unpacking in tuple\n",
    "num=('one',\"two\",\"three\",\"four\")\n",
    "(a,b,c,d)=num\n",
    "print(d)"
   ]
  },
  {
   "cell_type": "code",
   "execution_count": 45,
   "id": "4f446de1-6d05-4ae9-ae61-38a733d9d399",
   "metadata": {},
   "outputs": [
    {
     "name": "stdout",
     "output_type": "stream",
     "text": [
      "one\n",
      "two three four\n",
      "five\n"
     ]
    }
   ],
   "source": [
    "num=('one',\"two\",\"three\",\"four\",\"five\")\n",
    "(a,*b,c)=num\n",
    "print(a)\n",
    "print(*b)\n",
    "print(c)"
   ]
  },
  {
   "cell_type": "code",
   "execution_count": null,
   "id": "aa995fa9-1165-4ea9-aed7-8ecab4a36846",
   "metadata": {},
   "outputs": [],
   "source": []
  }
 ],
 "metadata": {
  "kernelspec": {
   "display_name": "Python 3 (ipykernel)",
   "language": "python",
   "name": "python3"
  },
  "language_info": {
   "codemirror_mode": {
    "name": "ipython",
    "version": 3
   },
   "file_extension": ".py",
   "mimetype": "text/x-python",
   "name": "python",
   "nbconvert_exporter": "python",
   "pygments_lexer": "ipython3",
   "version": "3.12.4"
  }
 },
 "nbformat": 4,
 "nbformat_minor": 5
}
