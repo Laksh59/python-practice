{
 "cells": [
  {
   "cell_type": "code",
   "execution_count": 15,
   "id": "ed480b08-4fa5-46c3-9f30-c42319c84d35",
   "metadata": {},
   "outputs": [
    {
     "name": "stdin",
     "output_type": "stream",
     "text": [
      " roar\n"
     ]
    },
    {
     "name": "stdout",
     "output_type": "stream",
     "text": [
      "Reversed text: raor\n",
      "no the given str is not palindrome\n"
     ]
    }
   ],
   "source": [
    "x=str(input())\n",
    "rev_text=\"\"\n",
    "for i in x:\n",
    "    rev_text=i+rev_text\n",
    "print(\"Reversed text:\",rev_text)\n",
    "if x==rev_text:\n",
    "    print(\"yes it is a palindrome\")\n",
    "else:\n",
    "    print(\"no the given str is not palindrome\")"
   ]
  },
  {
   "cell_type": "code",
   "execution_count": null,
   "id": "4d2e9bf7-3da0-4162-adcc-fb6f60f50c08",
   "metadata": {},
   "outputs": [],
   "source": []
  }
 ],
 "metadata": {
  "kernelspec": {
   "display_name": "Python 3 (ipykernel)",
   "language": "python",
   "name": "python3"
  },
  "language_info": {
   "codemirror_mode": {
    "name": "ipython",
    "version": 3
   },
   "file_extension": ".py",
   "mimetype": "text/x-python",
   "name": "python",
   "nbconvert_exporter": "python",
   "pygments_lexer": "ipython3",
   "version": "3.12.4"
  }
 },
 "nbformat": 4,
 "nbformat_minor": 5
}
