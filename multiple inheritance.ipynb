{
 "cells": [
  {
   "cell_type": "code",
   "execution_count": 1,
   "id": "d14314d2-210b-4a5d-87e2-329a8aa3529b",
   "metadata": {},
   "outputs": [
    {
     "name": "stdout",
     "output_type": "stream",
     "text": [
      "Hotel Name: Grand Palace\n",
      "Address: 123 Street, City\n",
      "Mobile: 9876543210\n",
      "Normal Room Rent: 500 perday\n",
      "AC Room Rent: 600 perday\n",
      "Suite Room Rent: 900 perday\n"
     ]
    }
   ],
   "source": [
    "#write a python program to calculate the room rent of the hotel using multiple inheritance\n",
    "# Base Class\n",
    "class NormalRoom:\n",
    "    def calculate(self, no_rooms, days):\n",
    "        if days == 1:\n",
    "            rent = 300\n",
    "        elif 1 < days <= 5:\n",
    "            rent = 250\n",
    "        else:\n",
    "            rent = 200\n",
    "        return no_rooms * rent\n",
    "\n",
    "class AC_Room:\n",
    "    def calculate(self, no_rooms, days):\n",
    "        if days == 1:\n",
    "            rent = 450\n",
    "        elif 1 < days <= 5:\n",
    "            rent = 300\n",
    "        else:\n",
    "            rent = 250\n",
    "        return no_rooms * rent\n",
    "\n",
    "class Suite_Room:\n",
    "    def calculate(self, no_rooms, days):\n",
    "        if days == 1:\n",
    "            rent = 550\n",
    "        elif 1 < days <= 5:\n",
    "            rent = 500\n",
    "        else:\n",
    "            rent = 450\n",
    "        return no_rooms * rent\n",
    "\n",
    "\n",
    "# Derived Class\n",
    "class Hotel(NormalRoom, AC_Room, Suite_Room):\n",
    "    def display(self, name, address, mobile):\n",
    "        print(f\"Hotel Name: {name}\")\n",
    "        print(f\"Address: {address}\")\n",
    "        print(f\"Mobile: {mobile}\")\n",
    "\n",
    "\n",
    "# Example Usage\n",
    "hotel = Hotel()\n",
    "hotel.display(\"Grand Palace\", \"123 Street, City\", \"9876543210\")\n",
    "\n",
    "normal_rent = hotel.calculate(no_rooms=2, days=3)  \n",
    "print(f\"Normal Room Rent: {normal_rent} perday\")\n",
    "\n",
    "# AC Room Calculation\n",
    "ac_rent = AC_Room().calculate(no_rooms=2, days=4)  # Specific to AC_Room\n",
    "print(f\"AC Room Rent: {ac_rent} perday\")\n",
    "\n",
    "# Suite Room Calculation\n",
    "suite_rent = Suite_Room().calculate(no_rooms=2, days=6)  \n",
    "print(f\"Suite Room Rent: {suite_rent} perday\")"
   ]
  },
  {
   "cell_type": "code",
   "execution_count": null,
   "id": "918bb30c-b7a2-4c3c-b960-c7f1c4f4e9ae",
   "metadata": {},
   "outputs": [
    {
     "name": "stdin",
     "output_type": "stream",
     "text": [
      " jk\n"
     ]
    }
   ],
   "source": [
    "#write a prgm to calculate the salary of temporary staff using maltilevel inheritance\n",
    "class Person():\n",
    "    def __init__(self):\n",
    "        self.name=name;\n",
    "    def display(self):\n",
    "        print(\"name:\",self.name)\n",
    "        \n",
    "class Staff(Person):\n",
    "    def __init__(self):\n",
    "        super().__init__()\n",
    "        self.id=id\n",
    "    def display(self):\n",
    "        super().display()\n",
    "        print(\"ID:\",self.id)\n",
    "        \n",
    "class Temporarystaff(Staff):\n",
    "    def __init__(self,name,id,days,hours):\n",
    "        super().__init__()\n",
    "        self.days=days\n",
    "        self.hours=hours\n",
    "    def salary(self):\n",
    "        salary=days*hour*150\n",
    "        return salary\n",
    "    def display(self):\n",
    "        super().display()\n",
    "        print(\"no. of days=\",days)\n",
    "        print(\"no. of hours worked=\",hours)\n",
    "        print(\"total salary=\",self.salary())\n",
    "name=input()\n",
    "Id=int(input())\n",
    "days=int(input())\n",
    "hours=int(input())\n",
    "ts=Temporarystaff(name,id,days,hours)\n",
    "ts.display()"
   ]
  }
 ],
 "metadata": {
  "kernelspec": {
   "display_name": "Python 3 (ipykernel)",
   "language": "python",
   "name": "python3"
  },
  "language_info": {
   "codemirror_mode": {
    "name": "ipython",
    "version": 3
   },
   "file_extension": ".py",
   "mimetype": "text/x-python",
   "name": "python",
   "nbconvert_exporter": "python",
   "pygments_lexer": "ipython3",
   "version": "3.12.4"
  }
 },
 "nbformat": 4,
 "nbformat_minor": 5
}
